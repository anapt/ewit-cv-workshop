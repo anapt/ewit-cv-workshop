{
 "cells": [
  {
   "cell_type": "markdown",
   "metadata": {},
   "source": [
    "# Object detection using Amazon Rekognition"
   ]
  },
  {
   "cell_type": "markdown",
   "metadata": {},
   "source": [
    "***\n",
    "This notebook provides a walkthrough of [object detection API](https://docs.aws.amazon.com/rekognition/latest/dg/labels.html) in Amazon Rekognition to identify objects.\n",
    "***"
   ]
  },
  {
   "cell_type": "markdown",
   "metadata": {},
   "source": [
    "## Initialization"
   ]
  },
  {
   "cell_type": "code",
   "execution_count": null,
   "metadata": {},
   "outputs": [],
   "source": [
    "# Initialise Notebook\n",
    "import boto3\n",
    "from IPython.display import HTML, display, Image as IImage\n",
    "from PIL import Image, ImageDraw, ImageFont\n",
    "import time\n",
    "import os\n",
    "import io"
   ]
  },
  {
   "cell_type": "code",
   "execution_count": null,
   "metadata": {},
   "outputs": [],
   "source": [
    "# Curent AWS Region. Use this to choose corresponding S3 bucket with sample content\n",
    "\n",
    "region = boto3.session.Session().region_name"
   ]
  },
  {
   "cell_type": "code",
   "execution_count": null,
   "metadata": {},
   "outputs": [],
   "source": [
    "# Init clients\n",
    "rekognition = boto3.client('rekognition')"
   ]
  },
  {
   "cell_type": "code",
   "execution_count": null,
   "metadata": {},
   "outputs": [],
   "source": [
    "# Create temporary directory\n",
    "# This directory is not needed to call Rekognition APIs.\n",
    "# We will only use this directory to download images from S3 bucket and draw bounding boxes\n",
    "\n",
    "!mkdir tmpfolder\n",
    "temp_folder = 'tmpfolder/'"
   ]
  },
  {
   "cell_type": "markdown",
   "metadata": {},
   "source": [
    "## Detect objects in image\n",
    "***"
   ]
  },
  {
   "cell_type": "markdown",
   "metadata": {},
   "source": [
    "### Option 1: Upload your own image\n",
    "\n",
    "Upload any `.jpg` or `.png` image that you want to use for this Demo and assign the file path to the variable `image_path`.\n",
    "\n",
    "You can upload through the button on the top left corner:\n",
    "\n",
    "<img src=\"./img/img_upload.jpg\">"
   ]
  },
  {
   "cell_type": "markdown",
   "metadata": {},
   "source": [
    "### Option 2: Use the sample photo on the media/ folder"
   ]
  },
  {
   "cell_type": "code",
   "execution_count": null,
   "metadata": {},
   "outputs": [],
   "source": [
    "image_path = \"media/object-detection/skateboard.jpg\""
   ]
  },
  {
   "cell_type": "code",
   "execution_count": null,
   "metadata": {},
   "outputs": [],
   "source": [
    "display(Image.open(image_path))"
   ]
  },
  {
   "cell_type": "markdown",
   "metadata": {},
   "source": [
    "#### Call Rekognition to detect objects in the image"
   ]
  },
  {
   "cell_type": "code",
   "execution_count": null,
   "metadata": {},
   "outputs": [],
   "source": [
    "# call Rekognition API of DetectLabels\n",
    "with open(image_path, 'rb') as image:\n",
    "    detect_label_response = rekognition.detect_labels(Image={'Bytes': image.read()})"
   ]
  },
  {
   "cell_type": "markdown",
   "metadata": {},
   "source": [
    "## Review the raw JSON reponse from Rekognition"
   ]
  },
  {
   "cell_type": "code",
   "execution_count": null,
   "metadata": {
    "scrolled": true
   },
   "outputs": [],
   "source": [
    "# Show JSON response returned by Rekognition Labels API (Object Detection)\n",
    "# In the JSON response below, you will see Label, detected instances, confidence score and additional information.\n",
    "\n",
    "display(detect_label_response)"
   ]
  },
  {
   "cell_type": "code",
   "execution_count": null,
   "metadata": {},
   "outputs": [],
   "source": [
    "# Define a function that will display image with bounded boxes around recognized objects\n",
    "# We will call this function in next step\n",
    "  \n",
    "def draw_bounding_boxes(image_path, boxes):\n",
    "    \"\"\"\n",
    "    Helper Function to draw bounding boxes around detected objects\n",
    "    input: image path \n",
    "    returns: displayble images with detected bounding boxes\n",
    "    \"\"\"\n",
    "    img = Image.open(image_path)\n",
    "    draw = ImageDraw.Draw(img)\n",
    "    width, height = img.size\n",
    "    line = 3\n",
    "    for box in boxes:\n",
    "        x1 = int(box[1]['Left'] * width)\n",
    "        y1 = int(box[1]['Top'] * height)\n",
    "        x2 = int(box[1]['Left'] * width + box[1]['Width'] * width)\n",
    "        y2 = int(box[1]['Top'] * height + box[1]['Height']  * height)\n",
    "        fnt_size = 20\n",
    "        fnt = ImageFont.truetype(\"/usr/share/fonts/dejavu/DejaVuSans.ttf\", fnt_size)\n",
    "        draw.text((x1,y1),box[0],font=fnt)\n",
    "        for l in range(line):\n",
    "            draw.rectangle((x1-l,y1-l,x2+l,y2+l))\n",
    "        \n",
    "    display(img)"
   ]
  },
  {
   "cell_type": "code",
   "execution_count": null,
   "metadata": {},
   "outputs": [],
   "source": [
    "# Show image and bounded boxes around detected objects\n",
    "boxes = []\n",
    "objects = detect_label_response['Labels']\n",
    "for obj in objects:\n",
    "    for instance in obj[\"Instances\"]:\n",
    "        boxes.append((obj['Name'], instance['BoundingBox']))\n",
    "    \n",
    "draw_bounding_boxes(image_path, boxes)"
   ]
  },
  {
   "cell_type": "markdown",
   "metadata": {},
   "source": [
    "## Worker Safety with Amazon Rekognition\n",
    "***\n",
    "You can use Amazon Rekognition to detect if certain objects are not present in the image or video. For example you can perform worker safety audit by revieweing images/video of a construction site  and detecting if there are any workers without safety hat."
   ]
  },
  {
   "cell_type": "code",
   "execution_count": null,
   "metadata": {},
   "outputs": [],
   "source": [
    "image_path = \"media/ppe-detection/ppe_group.jpg\""
   ]
  },
  {
   "cell_type": "code",
   "execution_count": null,
   "metadata": {},
   "outputs": [],
   "source": [
    "display(Image.open(image_path))"
   ]
  },
  {
   "cell_type": "code",
   "execution_count": null,
   "metadata": {},
   "outputs": [],
   "source": [
    "# Call Amazon Rekognition to detect PPE in the image\n",
    "# https://docs.aws.amazon.com/rekognition/latest/dg/API_DetectProtectiveEquipment.html\n",
    "with open(image_path, 'rb') as image:\n",
    "    detect_ppe_response = rekognition.detect_protective_equipment(Image={'Bytes': image.read()})"
   ]
  },
  {
   "cell_type": "code",
   "execution_count": null,
   "metadata": {},
   "outputs": [],
   "source": [
    "def detect_ppe(image_path, detect_ppe_response, confidence):\n",
    "\n",
    "    fill_green='#00d400'\n",
    "    fill_red='#ff0000'\n",
    "    fill_yellow='#ffff00'\n",
    "    line_width=3\n",
    "    \n",
    "    # open image and get image data from stream.\n",
    "    image = Image.open(open(image_path,'rb'))\n",
    "    stream = io.BytesIO()\n",
    "    image.save(stream, format=image.format)    \n",
    "    image_binary = stream.getvalue()\n",
    "    imgWidth, imgHeight = image.size  \n",
    "    draw = ImageDraw.Draw(image)  \n",
    "    \n",
    "    \n",
    "    for person in detect_ppe_response['Persons']:\n",
    "        found_mask = False\n",
    "        found_hat = False \n",
    "        for body_part in person['BodyParts']:\n",
    "            ppe_items = body_part['EquipmentDetections']\n",
    "                 \n",
    "            for ppe_item in ppe_items:\n",
    "                if ppe_item['Type'] == 'FACE_COVER':\n",
    "                    fill_color=fill_green\n",
    "                    found_mask=True\n",
    "                    # check if mask covers face\n",
    "                    if ppe_item['CoversBodyPart']['Value'] == False:\n",
    "                        fill_color=fill='#ff0000'\n",
    "                    # draw bounding box around mask\n",
    "                    box = ppe_item['BoundingBox']\n",
    "                    left = imgWidth * box['Left']\n",
    "                    top = imgHeight * box['Top']\n",
    "                    width = imgWidth * box['Width']\n",
    "                    height = imgHeight * box['Height']\n",
    "                    points = (\n",
    "                            (left,top),\n",
    "                            (left + width, top),\n",
    "                            (left + width, top + height),\n",
    "                            (left , top + height),\n",
    "                            (left, top)\n",
    "                        )\n",
    "                    draw.line(points, fill=fill_color, width=line_width)\n",
    "                    \n",
    "                     # Check if confidence is lower than supplied value       \n",
    "                    if ppe_item['CoversBodyPart']['Confidence'] < confidence:\n",
    "                        # draw warning yellow bounding box within face mask bounding box\n",
    "                        offset=line_width+ line_width \n",
    "                        points = (\n",
    "                                    (left+offset,top + offset),\n",
    "                                    (left + width-offset, top+offset),\n",
    "                                    ((left) + (width-offset), (top-offset) + (height)),\n",
    "                                    (left+ offset , (top) + (height -offset)),\n",
    "                                    (left + offset, top + offset)\n",
    "                                )\n",
    "                        draw.line(points, fill=fill_yellow, width=line_width)\n",
    "                               \n",
    "                    \n",
    "                if ppe_item['Type'] == 'HEAD_COVER': # you can change it to \"HEAD_COVER\" or \"HAND_COVER\"\n",
    "                    fill_color = '#00d460'\n",
    "                    found_hat = True\n",
    "\n",
    "                    if ppe_item['CoversBodyPart']['Value'] == False:\n",
    "                        fill_color=fill='#ff0000'\n",
    "                        \n",
    "                    # draw bounding box around hat\n",
    "                    box = ppe_item['BoundingBox']\n",
    "                    left = imgWidth * box['Left']\n",
    "                    top = imgHeight * box['Top']\n",
    "                    width = imgWidth * box['Width']\n",
    "                    height = imgHeight * box['Height']\n",
    "                    points = (\n",
    "                            (left,top),\n",
    "                            (left + width, top),\n",
    "                            (left + width, top + height),\n",
    "                            (left , top + height),\n",
    "                            (left, top)\n",
    "                        )\n",
    "                    draw.line(points, fill=fill_color, width=line_width)\n",
    "                    # Check if confidence is lower than supplied value       \n",
    "                    if ppe_item['CoversBodyPart']['Confidence'] < confidence:\n",
    "                        # draw warning yellow bounding box within the bounding box\n",
    "                        offset=line_width+ line_width \n",
    "                        points = (\n",
    "                                    (left+offset,top + offset),\n",
    "                                    (left + width-offset, top+offset),\n",
    "                                    ((left) + (width-offset), (top-offset) + (height)),\n",
    "                                    (left+ offset , (top) + (height -offset)),\n",
    "                                    (left + offset, top + offset)\n",
    "                                )\n",
    "                        draw.line(points, fill=fill_yellow, width=line_width)\n",
    "\n",
    "                    \n",
    "        if found_mask==False or found_hat==False:\n",
    "            box = person['BoundingBox']\n",
    "            left = imgWidth * box['Left']\n",
    "            top = imgHeight * box['Top']\n",
    "            width = imgWidth * box['Width']\n",
    "            height = imgHeight * box['Height']\n",
    "            points = (\n",
    "                (left,top), (left + width, top),\n",
    "                (left + width, top + height),\n",
    "                (left , top + height), (left, top))\n",
    "            draw.line(points, fill=fill_red, width=line_width)\n",
    "\n",
    "    display(image)"
   ]
  },
  {
   "cell_type": "code",
   "execution_count": null,
   "metadata": {},
   "outputs": [],
   "source": [
    "confidence = 90 # confidence if the bodypart is covered by the particular PPE \n",
    "detect_ppe(image_path, detect_ppe_response, confidence)"
   ]
  },
  {
   "cell_type": "markdown",
   "metadata": {},
   "source": [
    "### Learn more about building an end to end worker safety app\n",
    "To learn on how to build an end to end worker safety app, learn more at https://github.com/aws-samples/aws-deeplens-worker-safety-project"
   ]
  }
 ],
 "metadata": {
  "kernelspec": {
   "display_name": "conda_python3",
   "language": "python",
   "name": "conda_python3"
  },
  "language_info": {
   "codemirror_mode": {
    "name": "ipython",
    "version": 3
   },
   "file_extension": ".py",
   "mimetype": "text/x-python",
   "name": "python",
   "nbconvert_exporter": "python",
   "pygments_lexer": "ipython3",
   "version": "3.6.13"
  }
 },
 "nbformat": 4,
 "nbformat_minor": 4
}
